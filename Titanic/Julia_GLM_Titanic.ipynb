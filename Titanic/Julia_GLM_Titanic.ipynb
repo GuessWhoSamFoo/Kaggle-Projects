{
 "cells": [
  {
   "cell_type": "markdown",
   "metadata": {},
   "source": [
    "# Kaggle Titanic Dataset Using Julia 0.4.5\n",
    "\n",
    "General Notes:\n",
    "\n",
    "1) Plotting libraries have not reached the same level of maturity as maplotlib/seaborn/plotly.\n",
    "\n",
    "2) Cleaning data is more difficult because aggregate functions are more limited. Must loop to apply function row-wise.\n",
    "\n",
    "3) Documentation is a bit harder to find"
   ]
  },
  {
   "cell_type": "code",
   "execution_count": 98,
   "metadata": {
    "collapsed": false,
    "scrolled": false
   },
   "outputs": [],
   "source": [
    "using DataFrames;\n",
    "using StatPlots;\n",
    "using Plots;"
   ]
  },
  {
   "cell_type": "code",
   "execution_count": 134,
   "metadata": {
    "collapsed": false
   },
   "outputs": [
    {
     "data": {
      "text/plain": [
       "Plots.PyPlotBackend()"
      ]
     },
     "execution_count": 134,
     "metadata": {},
     "output_type": "execute_result"
    }
   ],
   "source": [
    "pyplot()\n",
    "# Plots uses pyplot by default but can set the backend to many different options"
   ]
  },
  {
   "cell_type": "code",
   "execution_count": 3,
   "metadata": {
    "collapsed": false,
    "scrolled": false
   },
   "outputs": [
    {
     "data": {
      "text/html": [
       "<table class=\"data-frame\"><thead><tr><th></th><th>PassengerId</th><th>Survived</th><th>Pclass</th><th>Name</th><th>Sex</th><th>Age</th><th>SibSp</th><th>Parch</th><th>Ticket</th><th>Fare</th><th>Cabin</th><th>Embarked</th></tr></thead><tbody><tr><th>1</th><td>1</td><td>0</td><td>3</td><td>Braund, Mr. Owen Harris</td><td>male</td><td>22.0</td><td>1</td><td>0</td><td>A/5 21171</td><td>7.25</td><td>NA</td><td>S</td></tr><tr><th>2</th><td>2</td><td>1</td><td>1</td><td>Cumings, Mrs. John Bradley (Florence Briggs Thayer)</td><td>female</td><td>38.0</td><td>1</td><td>0</td><td>PC 17599</td><td>71.2833</td><td>C85</td><td>C</td></tr><tr><th>3</th><td>3</td><td>1</td><td>3</td><td>Heikkinen, Miss. Laina</td><td>female</td><td>26.0</td><td>0</td><td>0</td><td>STON/O2. 3101282</td><td>7.925</td><td>NA</td><td>S</td></tr><tr><th>4</th><td>4</td><td>1</td><td>1</td><td>Futrelle, Mrs. Jacques Heath (Lily May Peel)</td><td>female</td><td>35.0</td><td>1</td><td>0</td><td>113803</td><td>53.1</td><td>C123</td><td>S</td></tr><tr><th>5</th><td>5</td><td>0</td><td>3</td><td>Allen, Mr. William Henry</td><td>male</td><td>35.0</td><td>0</td><td>0</td><td>373450</td><td>8.05</td><td>NA</td><td>S</td></tr><tr><th>6</th><td>6</td><td>0</td><td>3</td><td>Moran, Mr. James</td><td>male</td><td>NA</td><td>0</td><td>0</td><td>330877</td><td>8.4583</td><td>NA</td><td>Q</td></tr></tbody></table>"
      ],
      "text/plain": [
       "6×12 DataFrames.DataFrame\n",
       "│ Row │ PassengerId │ Survived │ Pclass │\n",
       "├─────┼─────────────┼──────────┼────────┤\n",
       "│ 1   │ 1           │ 0        │ 3      │\n",
       "│ 2   │ 2           │ 1        │ 1      │\n",
       "│ 3   │ 3           │ 1        │ 3      │\n",
       "│ 4   │ 4           │ 1        │ 1      │\n",
       "│ 5   │ 5           │ 0        │ 3      │\n",
       "│ 6   │ 6           │ 0        │ 3      │\n",
       "\n",
       "│ Row │ Name                                                  │ Sex      │\n",
       "├─────┼───────────────────────────────────────────────────────┼──────────┤\n",
       "│ 1   │ \"Braund, Mr. Owen Harris\"                             │ \"male\"   │\n",
       "│ 2   │ \"Cumings, Mrs. John Bradley (Florence Briggs Thayer)\" │ \"female\" │\n",
       "│ 3   │ \"Heikkinen, Miss. Laina\"                              │ \"female\" │\n",
       "│ 4   │ \"Futrelle, Mrs. Jacques Heath (Lily May Peel)\"        │ \"female\" │\n",
       "│ 5   │ \"Allen, Mr. William Henry\"                            │ \"male\"   │\n",
       "│ 6   │ \"Moran, Mr. James\"                                    │ \"male\"   │\n",
       "\n",
       "│ Row │ Age  │ SibSp │ Parch │ Ticket             │ Fare    │ Cabin  │\n",
       "├─────┼──────┼───────┼───────┼────────────────────┼─────────┼────────┤\n",
       "│ 1   │ 22.0 │ 1     │ 0     │ \"A/5 21171\"        │ 7.25    │ NA     │\n",
       "│ 2   │ 38.0 │ 1     │ 0     │ \"PC 17599\"         │ 71.2833 │ \"C85\"  │\n",
       "│ 3   │ 26.0 │ 0     │ 0     │ \"STON/O2. 3101282\" │ 7.925   │ NA     │\n",
       "│ 4   │ 35.0 │ 1     │ 0     │ \"113803\"           │ 53.1    │ \"C123\" │\n",
       "│ 5   │ 35.0 │ 0     │ 0     │ \"373450\"           │ 8.05    │ NA     │\n",
       "│ 6   │ NA   │ 0     │ 0     │ \"330877\"           │ 8.4583  │ NA     │\n",
       "\n",
       "│ Row │ Embarked │\n",
       "├─────┼──────────┤\n",
       "│ 1   │ \"S\"      │\n",
       "│ 2   │ \"C\"      │\n",
       "│ 3   │ \"S\"      │\n",
       "│ 4   │ \"S\"      │\n",
       "│ 5   │ \"S\"      │\n",
       "│ 6   │ \"Q\"      │"
      ]
     },
     "execution_count": 3,
     "metadata": {},
     "output_type": "execute_result"
    }
   ],
   "source": [
    "train = readtable(\"train.csv\")\n",
    "head(train)"
   ]
  },
  {
   "cell_type": "markdown",
   "metadata": {},
   "source": [
    "Quick way to glance at all NA values"
   ]
  },
  {
   "cell_type": "code",
   "execution_count": 4,
   "metadata": {
    "collapsed": false
   },
   "outputs": [
    {
     "name": "stdout",
     "output_type": "stream",
     "text": [
      "891×12 DataFrames.DataFrame\n",
      "│ Col # │ Name        │ Eltype     │ Missing │\n",
      "├───────┼─────────────┼────────────┼─────────┤\n",
      "│ 1     │ PassengerId │ Int64      │ 0       │\n",
      "│ 2     │ Survived    │ Int64      │ 0       │\n",
      "│ 3     │ Pclass      │ Int64      │ 0       │\n",
      "│ 4     │ Name        │ UTF8String │ 0       │\n",
      "│ 5     │ Sex         │ UTF8String │ 0       │\n",
      "│ 6     │ Age         │ Float64    │ 177     │\n",
      "│ 7     │ SibSp       │ Int64      │ 0       │\n",
      "│ 8     │ Parch       │ Int64      │ 0       │\n",
      "│ 9     │ Ticket      │ UTF8String │ 0       │\n",
      "│ 10    │ Fare        │ Float64    │ 0       │\n",
      "│ 11    │ Cabin       │ UTF8String │ 687     │\n",
      "│ 12    │ Embarked    │ UTF8String │ 2       │"
     ]
    }
   ],
   "source": [
    "showcols(train)"
   ]
  },
  {
   "cell_type": "markdown",
   "metadata": {},
   "source": [
    "0 - Did not survive\n",
    "\n",
    "1 - Survived"
   ]
  },
  {
   "cell_type": "code",
   "execution_count": 137,
   "metadata": {
    "collapsed": false
   },
   "outputs": [
    {
     "data": {
      "text/html": [
       "<img src=\"data:image/png;base64,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\" />"
      ]
     },
     "execution_count": 137,
     "metadata": {},
     "output_type": "execute_result"
    }
   ],
   "source": [
    "survival_count = by(train, :Survived, nrow)\n",
    "bar(survival_count[:Survived],survival_count[:x1], xticks=[0,1], bar_width=0.5, legend=:none)\n",
    "# Alternate method: plot(survival_count[:Survived],survival_count[:x1], line=:bar)"
   ]
  },
  {
   "cell_type": "code",
   "execution_count": 6,
   "metadata": {
    "collapsed": false
   },
   "outputs": [
    {
     "data": {
      "text/plain": [
       "Dict{Union{DataArrays.NAtype,Int64},Int64} with 2 entries:\n",
       "  0 => 549\n",
       "  1 => 342"
      ]
     },
     "execution_count": 6,
     "metadata": {},
     "output_type": "execute_result"
    }
   ],
   "source": [
    "countmap(train[:Survived])"
   ]
  },
  {
   "cell_type": "markdown",
   "metadata": {},
   "source": [
    "There are 233 female survivors while only 109 male survivors!"
   ]
  },
  {
   "cell_type": "code",
   "execution_count": 7,
   "metadata": {
    "collapsed": false
   },
   "outputs": [
    {
     "data": {
      "text/html": [
       "<table class=\"data-frame\"><thead><tr><th></th><th>Survived</th><th>Sex</th><th>x1</th></tr></thead><tbody><tr><th>1</th><td>0</td><td>female</td><td>81</td></tr><tr><th>2</th><td>0</td><td>male</td><td>468</td></tr><tr><th>3</th><td>1</td><td>female</td><td>233</td></tr><tr><th>4</th><td>1</td><td>male</td><td>109</td></tr></tbody></table>"
      ],
      "text/plain": [
       "4×3 DataFrames.DataFrame\n",
       "│ Row │ Survived │ Sex      │ x1  │\n",
       "├─────┼──────────┼──────────┼─────┤\n",
       "│ 1   │ 0        │ \"female\" │ 81  │\n",
       "│ 2   │ 0        │ \"male\"   │ 468 │\n",
       "│ 3   │ 1        │ \"female\" │ 233 │\n",
       "│ 4   │ 1        │ \"male\"   │ 109 │"
      ]
     },
     "execution_count": 7,
     "metadata": {},
     "output_type": "execute_result"
    }
   ],
   "source": [
    "gender_survive = by(train, [:Survived,:Sex], nrow)"
   ]
  },
  {
   "cell_type": "markdown",
   "metadata": {},
   "source": [
    "Many 3rd class passengers did not survive. Was this because there were more 3rd class passengers or statistically sigificant effect for their higher mortality rate?"
   ]
  },
  {
   "cell_type": "code",
   "execution_count": 8,
   "metadata": {
    "collapsed": false
   },
   "outputs": [
    {
     "data": {
      "text/html": [
       "<table class=\"data-frame\"><thead><tr><th></th><th>Survived</th><th>Pclass</th><th>x1</th></tr></thead><tbody><tr><th>1</th><td>0</td><td>1</td><td>80</td></tr><tr><th>2</th><td>0</td><td>2</td><td>97</td></tr><tr><th>3</th><td>0</td><td>3</td><td>372</td></tr><tr><th>4</th><td>1</td><td>1</td><td>136</td></tr><tr><th>5</th><td>1</td><td>2</td><td>87</td></tr><tr><th>6</th><td>1</td><td>3</td><td>119</td></tr></tbody></table>"
      ],
      "text/plain": [
       "6×3 DataFrames.DataFrame\n",
       "│ Row │ Survived │ Pclass │ x1  │\n",
       "├─────┼──────────┼────────┼─────┤\n",
       "│ 1   │ 0        │ 1      │ 80  │\n",
       "│ 2   │ 0        │ 2      │ 97  │\n",
       "│ 3   │ 0        │ 3      │ 372 │\n",
       "│ 4   │ 1        │ 1      │ 136 │\n",
       "│ 5   │ 1        │ 2      │ 87  │\n",
       "│ 6   │ 1        │ 3      │ 119 │"
      ]
     },
     "execution_count": 8,
     "metadata": {},
     "output_type": "execute_result"
    }
   ],
   "source": [
    "class_survive = by(train, [:Survived, :Pclass], nrow)"
   ]
  },
  {
   "cell_type": "markdown",
   "metadata": {},
   "source": [
    "Creating a plot of age distributions on the Titanic"
   ]
  },
  {
   "cell_type": "code",
   "execution_count": 9,
   "metadata": {
    "collapsed": false
   },
   "outputs": [],
   "source": [
    "age_dist = by(train, :Age, nrow);\n",
    "deleterows!(age_dist,find(isna(age_dist[:,symbol(\"Age\")])));"
   ]
  },
  {
   "cell_type": "code",
   "execution_count": 129,
   "metadata": {
    "collapsed": false
   },
   "outputs": [
    {
     "data": {
      "text/html": [
       "<img src=\"data:image/png;base64,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\" />"
      ]
     },
     "execution_count": 129,
     "metadata": {},
     "output_type": "execute_result"
    }
   ],
   "source": [
    "bar(age_dist[:Age],age_dist[:x1])\n",
    "# Maybe just use KDE plot instead"
   ]
  },
  {
   "cell_type": "code",
   "execution_count": 11,
   "metadata": {
    "collapsed": false
   },
   "outputs": [
    {
     "data": {
      "text/html": [
       "<img src=\"data:image/png;base64,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\" />"
      ]
     },
     "execution_count": 11,
     "metadata": {},
     "output_type": "execute_result"
    }
   ],
   "source": [
    "sibling_spouse = by(train, :SibSp, nrow);\n",
    "bar(sibling_spouse[:SibSp],sibling_spouse[:x1],bar_width=0.5, xticks=sibling_spouse[:SibSp])\n",
    "bar!(xlabel=\"Number of Spouses or Siblings\", ylabel=\"Count\", title=\"Passenger With Given Number of Sibings/Spouses\")"
   ]
  },
  {
   "cell_type": "code",
   "execution_count": 12,
   "metadata": {
    "collapsed": false
   },
   "outputs": [
    {
     "data": {
      "text/html": [
       "<img src=\"data:image/png;base64,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\" />"
      ]
     },
     "execution_count": 12,
     "metadata": {},
     "output_type": "execute_result"
    }
   ],
   "source": [
    "plot(train[:Fare], line=:histogram, nbins=40)\n",
    "plot!(xlabel=\"Price\", ylabel=\"Frequency\")"
   ]
  },
  {
   "cell_type": "code",
   "execution_count": 122,
   "metadata": {
    "collapsed": false
   },
   "outputs": [
    {
     "data": {
      "text/html": [
       "<img src=\"data:image/png;base64,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\" />"
      ]
     },
     "execution_count": 122,
     "metadata": {},
     "output_type": "execute_result"
    }
   ],
   "source": [
    "class_age = by(train, [:Pclass,:Age], nrow);\n",
    "deleterows!(class_age,find(isna(class_age[:,symbol(\"Age\")])));\n",
    "boxplot(class_age[:Pclass],class_age[:Age],marker=(0.6,:orange,stroke(2)))\n",
    "boxplot!(yticks=collect(0:10:100), xlabel=\"Passenger Class\", ylabel=\"Age\")"
   ]
  },
  {
   "cell_type": "markdown",
   "metadata": {},
   "source": [
    "Determine average for each Pclass using looping as seen from boxplot above"
   ]
  },
  {
   "cell_type": "code",
   "execution_count": 14,
   "metadata": {
    "collapsed": false
   },
   "outputs": [
    {
     "data": {
      "text/plain": [
       "3-element Array{Any,1}:\n",
       " 38.2334\n",
       " 29.8776\n",
       " 25.1406"
      ]
     },
     "execution_count": 14,
     "metadata": {},
     "output_type": "execute_result"
    }
   ],
   "source": [
    "pclass_mean = []\n",
    "for i = 1:3\n",
    "    push!(pclass_mean, mean(dropna(train[train[:Pclass] .== i, :][:Age])))\n",
    "end\n",
    "pclass_mean"
   ]
  },
  {
   "cell_type": "markdown",
   "metadata": {},
   "source": [
    "If the age is NA, the estimate will be the average age of that person's Pclass"
   ]
  },
  {
   "cell_type": "code",
   "execution_count": 15,
   "metadata": {
    "collapsed": false
   },
   "outputs": [],
   "source": [
    "#by(train[[:Age,:Pclass]], [:Pclass,:Age], nrow)\n",
    "for i in 1:3\n",
    "    train[(isna(train[:Age])) & (train[:Pclass] .== i), :Age] = pclass_mean[i]\n",
    "end"
   ]
  },
  {
   "cell_type": "markdown",
   "metadata": {},
   "source": [
    "DataFrame now has NA values within the Age column repaired"
   ]
  },
  {
   "cell_type": "code",
   "execution_count": 16,
   "metadata": {
    "collapsed": false
   },
   "outputs": [
    {
     "name": "stdout",
     "output_type": "stream",
     "text": [
      "891×12 DataFrames.DataFrame\n",
      "│ Col # │ Name        │ Eltype     │ Missing │\n",
      "├───────┼─────────────┼────────────┼─────────┤\n",
      "│ 1     │ PassengerId │ Int64      │ 0       │\n",
      "│ 2     │ Survived    │ Int64      │ 0       │\n",
      "│ 3     │ Pclass      │ Int64      │ 0       │\n",
      "│ 4     │ Name        │ UTF8String │ 0       │\n",
      "│ 5     │ Sex         │ UTF8String │ 0       │\n",
      "│ 6     │ Age         │ Float64    │ 0       │\n",
      "│ 7     │ SibSp       │ Int64      │ 0       │\n",
      "│ 8     │ Parch       │ Int64      │ 0       │\n",
      "│ 9     │ Ticket      │ UTF8String │ 0       │\n",
      "│ 10    │ Fare        │ Float64    │ 0       │\n",
      "│ 11    │ Cabin       │ UTF8String │ 687     │\n",
      "│ 12    │ Embarked    │ UTF8String │ 2       │"
     ]
    }
   ],
   "source": [
    "showcols(train)"
   ]
  },
  {
   "cell_type": "markdown",
   "metadata": {},
   "source": [
    "Cabin column is not used for analysis; delete function is an in-place method whereas selection returns a copy of the DataFrame"
   ]
  },
  {
   "cell_type": "code",
   "execution_count": 17,
   "metadata": {
    "collapsed": false
   },
   "outputs": [],
   "source": [
    "delete!(train, :Cabin);"
   ]
  },
  {
   "cell_type": "markdown",
   "metadata": {},
   "source": [
    "Remove remaining two NA values from Embarked column using complete_cases()"
   ]
  },
  {
   "cell_type": "code",
   "execution_count": 71,
   "metadata": {
    "collapsed": false
   },
   "outputs": [
    {
     "name": "stdout",
     "output_type": "stream",
     "text": [
      "889×11 DataFrames.DataFrame\n",
      "│ Col # │ Name        │ Eltype     │ Missing │\n",
      "├───────┼─────────────┼────────────┼─────────┤\n",
      "│ 1     │ PassengerId │ Int64      │ 0       │\n",
      "│ 2     │ Survived    │ Int64      │ 0       │\n",
      "│ 3     │ Pclass      │ Int64      │ 0       │\n",
      "│ 4     │ Name        │ UTF8String │ 0       │\n",
      "│ 5     │ Sex         │ UTF8String │ 0       │\n",
      "│ 6     │ Age         │ Float64    │ 0       │\n",
      "│ 7     │ SibSp       │ Int64      │ 0       │\n",
      "│ 8     │ Parch       │ Int64      │ 0       │\n",
      "│ 9     │ Ticket      │ UTF8String │ 0       │\n",
      "│ 10    │ Fare        │ Float64    │ 0       │\n",
      "│ 11    │ Embarked    │ UTF8String │ 0       │"
     ]
    }
   ],
   "source": [
    "clean_train = train[complete_cases(train),:]\n",
    "showcols(clean_train)"
   ]
  },
  {
   "cell_type": "code",
   "execution_count": 131,
   "metadata": {
    "collapsed": false,
    "scrolled": true
   },
   "outputs": [
    {
     "data": {
      "text/html": [
       "<table class=\"data-frame\"><thead><tr><th></th><th>Survived</th><th>Pclass</th><th>Sex</th><th>Age</th><th>SibSp</th><th>Parch</th><th>Fare</th></tr></thead><tbody><tr><th>1</th><td>1</td><td>1</td><td>male</td><td>22.0</td><td>1</td><td>0</td><td>7.25</td></tr><tr><th>2</th><td>1</td><td>1</td><td>female</td><td>38.0</td><td>1</td><td>0</td><td>71.2833</td></tr><tr><th>3</th><td>1</td><td>3</td><td>female</td><td>26.0</td><td>0</td><td>0</td><td>7.925</td></tr><tr><th>4</th><td>1</td><td>1</td><td>female</td><td>35.0</td><td>1</td><td>0</td><td>53.1</td></tr><tr><th>5</th><td>1</td><td>1</td><td>male</td><td>35.0</td><td>0</td><td>0</td><td>8.05</td></tr><tr><th>6</th><td>1</td><td>1</td><td>male</td><td>25.14061971830986</td><td>0</td><td>0</td><td>8.4583</td></tr></tbody></table>"
      ],
      "text/plain": [
       "6×7 DataFrames.DataFrame\n",
       "│ Row │ Survived │ Pclass │ Sex      │ Age     │ SibSp │ Parch │ Fare    │\n",
       "├─────┼──────────┼────────┼──────────┼─────────┼───────┼───────┼─────────┤\n",
       "│ 1   │ 1        │ 1      │ \"male\"   │ 22.0    │ 1     │ 0     │ 7.25    │\n",
       "│ 2   │ 1        │ 1      │ \"female\" │ 38.0    │ 1     │ 0     │ 71.2833 │\n",
       "│ 3   │ 1        │ 3      │ \"female\" │ 26.0    │ 0     │ 0     │ 7.925   │\n",
       "│ 4   │ 1        │ 1      │ \"female\" │ 35.0    │ 1     │ 0     │ 53.1    │\n",
       "│ 5   │ 1        │ 1      │ \"male\"   │ 35.0    │ 0     │ 0     │ 8.05    │\n",
       "│ 6   │ 1        │ 1      │ \"male\"   │ 25.1406 │ 0     │ 0     │ 8.4583  │"
      ]
     },
     "execution_count": 131,
     "metadata": {},
     "output_type": "execute_result"
    }
   ],
   "source": [
    "training_data = clean_train[[:Survived, :Pclass,:Sex, :Age, :SibSp, :Parch, :Fare]];\n",
    "head(training_data)"
   ]
  },
  {
   "cell_type": "markdown",
   "metadata": {},
   "source": [
    "# Logistic Regression using GLM\n",
    "\n",
    " * Syntax nearly identical to R\n",
    " * Weird bug on variable name after pooling?\n",
    " * See libraries in http://juliastats.github.io/"
   ]
  },
  {
   "cell_type": "code",
   "execution_count": 20,
   "metadata": {
    "collapsed": false
   },
   "outputs": [
    {
     "name": "stderr",
     "output_type": "stream",
     "text": [
      "\u001b[1m\u001b[34mINFO: Precompiling module GLM...\n",
      "\u001b[0m"
     ]
    }
   ],
   "source": [
    "using GLM"
   ]
  },
  {
   "cell_type": "markdown",
   "metadata": {},
   "source": [
    "Convert categorical variables from DataArray to PooledDataArray in order for GLM to create model."
   ]
  },
  {
   "cell_type": "code",
   "execution_count": 133,
   "metadata": {
    "collapsed": false
   },
   "outputs": [
    {
     "data": {
      "text/plain": [
       "2-element Array{UTF8String,1}:\n",
       " \"female\"\n",
       " \"male\"  "
      ]
     },
     "execution_count": 133,
     "metadata": {},
     "output_type": "execute_result"
    }
   ],
   "source": [
    "pool!(training_data, [:Sex])\n",
    "levels(training_data[:Sex])"
   ]
  },
  {
   "cell_type": "code",
   "execution_count": 82,
   "metadata": {
    "collapsed": false,
    "scrolled": true
   },
   "outputs": [
    {
     "data": {
      "text/plain": [
       "DataFrames.DataFrameRegressionModel{GLM.GeneralizedLinearModel{GLM.GlmResp{Array{Float64,1},Distributions.Binomial{Float64},GLM.LogitLink},GLM.DensePredChol{Float64,Base.LinAlg.Cholesky{Float64,Array{Float64,2}}}},Array{Float64,2}}\n",
       "\n",
       "Formula: Survived ~ 1 + Pclass + Age + Sex\n",
       "\n",
       "Coefficients:\n",
       "              Estimate  Std.Error  z value Pr(>|z|)\n",
       "(Intercept)    4.96863   0.477237  10.4112   <1e-24\n",
       "Pclass        -1.23628   0.125213 -9.87344   <1e-22\n",
       "Age          -0.037006 0.00765846 -4.83204    <1e-5\n",
       "Sex: male     -2.59889    0.18716 -13.8859   <1e-43\n"
      ]
     },
     "execution_count": 82,
     "metadata": {},
     "output_type": "execute_result"
    }
   ],
   "source": [
    "model = glm(Survived~Pclass+Age+Sex, training_data, Binomial(), LogitLink())"
   ]
  },
  {
   "cell_type": "code",
   "execution_count": 114,
   "metadata": {
    "collapsed": false
   },
   "outputs": [],
   "source": [
    "test = readtable(\"test.csv\");\n",
    "pool!(test, [:Sex])\n",
    "test_data = test[complete_cases(test), :];"
   ]
  },
  {
   "cell_type": "markdown",
   "metadata": {},
   "source": [
    "Predict the results using test.csv and rounding the output to either 0 or 1."
   ]
  },
  {
   "cell_type": "code",
   "execution_count": 118,
   "metadata": {
    "collapsed": false
   },
   "outputs": [],
   "source": [
    "results = predict(model, test_data);\n",
    "test_data[:Survived] = round(results);"
   ]
  },
  {
   "cell_type": "code",
   "execution_count": 119,
   "metadata": {
    "collapsed": false
   },
   "outputs": [
    {
     "data": {
      "text/html": [
       "<table class=\"data-frame\"><thead><tr><th></th><th>Survived</th><th>Sex</th><th>x1</th></tr></thead><tbody><tr><th>1</th><td>0.0</td><td>male</td><td>33</td></tr><tr><th>2</th><td>1.0</td><td>female</td><td>44</td></tr><tr><th>3</th><td>1.0</td><td>male</td><td>10</td></tr></tbody></table>"
      ],
      "text/plain": [
       "3×3 DataFrames.DataFrame\n",
       "│ Row │ Survived │ Sex      │ x1 │\n",
       "├─────┼──────────┼──────────┼────┤\n",
       "│ 1   │ 0.0      │ \"male\"   │ 33 │\n",
       "│ 2   │ 1.0      │ \"female\" │ 44 │\n",
       "│ 3   │ 1.0      │ \"male\"   │ 10 │"
      ]
     },
     "execution_count": 119,
     "metadata": {},
     "output_type": "execute_result"
    }
   ],
   "source": [
    "predicted_gender_survive = by(test_data, [:Survived,:Sex], nrow)"
   ]
  },
  {
   "cell_type": "markdown",
   "metadata": {},
   "source": [
    "Based on the Logistic Regression model using Pclass, Age, and Sex features, the model predicts all females will survive while only 10 males will survive."
   ]
  }
 ],
 "metadata": {
  "anaconda-cloud": {},
  "kernelspec": {
   "display_name": "Julia 0.4.5",
   "language": "julia",
   "name": "julia-0.4"
  },
  "language_info": {
   "file_extension": ".jl",
   "mimetype": "application/julia",
   "name": "julia",
   "version": "0.4.5"
  }
 },
 "nbformat": 4,
 "nbformat_minor": 2
}
